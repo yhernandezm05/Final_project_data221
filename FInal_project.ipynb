{
 "cells": [
  {
   "cell_type": "markdown",
   "id": "c1ea39e6",
   "metadata": {},
   "source": [
    "# Final Project\n",
    "The goal of the project is to explore a number of datasets that may be associated with political instability in the U.S. The data was taken from the Seshat Databank under Creative Commons Attribution Non-Commercial (CC By-NC SA) licensing. You are asked to follow the steps and/or answer the questions below. It is permitted to work on the project in pairs or individually (1-2 students per project). If working in a group, please ensure that you include the names of both team members in your submission and on the document itself!\n",
    "\n",
    "### Group Members\n",
    "- Yordi Hernandez\n",
    "- Dariel Cruz Rodriguez\n",
    "\n",
    "***"
   ]
  },
  {
   "cell_type": "code",
   "execution_count": 33,
   "id": "111af703",
   "metadata": {},
   "outputs": [],
   "source": [
    "# Put any modules we need to import here so it all loads at the start of the code.\n",
    "\n",
    "import pandas as pd\n",
    "import matplotlib.pyplot as plt\n",
    "import torch\n",
    "import numpy as np"
   ]
  },
  {
   "cell_type": "markdown",
   "id": "f11b82ed",
   "metadata": {},
   "source": [
    "## Data Wrangling\n",
    "\n",
    "* [X] Read the (short) code book.\n",
    "* [ ] Numerical data need to be uploaded, interpolated, and properly saved. For the purpose\n",
    "of this project, interpolate each variable such that you obtain one point per year (within\n",
    "the range of available data).\n",
    "* [ ] Calculate (and then interpolate) the political instability index.\n",
    "* [ ] Display the DataFrame with all of the columns and the interpolated data for the years\n",
    "1901-1910."
   ]
  },
  {
   "cell_type": "code",
   "execution_count": 34,
   "id": "bc187eab-7e6a-45fc-aaf0-8d0052df5d76",
   "metadata": {},
   "outputs": [],
   "source": [
    "# Yordi\n",
    "# - PltEVI.csv\n",
    "# - PltHeight.csv\n",
    "# - PltHSUS.csv"
   ]
  },
  {
   "cell_type": "code",
   "execution_count": null,
   "id": "cbe7ba74",
   "metadata": {},
   "outputs": [
    {
     "data": {
      "application/vnd.microsoft.datawrangler.viewer.v0+json": {
       "columns": [
        {
         "name": "index",
         "rawType": "int64",
         "type": "integer"
        },
        {
         "name": "year",
         "rawType": "float64",
         "type": "float"
        },
        {
         "name": "polarization",
         "rawType": "float64",
         "type": "float"
        }
       ],
       "conversionMethod": "pd.DataFrame",
       "ref": "f97391e3-5310-4ace-bc28-7d38dccf239d",
       "rows": [
        [
         "0",
         "1790.1540612372148",
         "0.552307375940939"
        ],
        [
         "1",
         "1790.1207504870035",
         "0.5458827390452796"
        ],
        [
         "2",
         "1790.1168945802267",
         "0.5405037490915428"
        ],
        [
         "3",
         "1790.11303867345",
         "0.5351247591378059"
        ],
        [
         "4",
         "1790.3913984198184",
         "0.5287185602090755"
        ]
       ],
       "shape": {
        "columns": 2,
        "rows": 5
       }
      },
      "text/html": [
       "<div>\n",
       "<style scoped>\n",
       "    .dataframe tbody tr th:only-of-type {\n",
       "        vertical-align: middle;\n",
       "    }\n",
       "\n",
       "    .dataframe tbody tr th {\n",
       "        vertical-align: top;\n",
       "    }\n",
       "\n",
       "    .dataframe thead th {\n",
       "        text-align: right;\n",
       "    }\n",
       "</style>\n",
       "<table border=\"1\" class=\"dataframe\">\n",
       "  <thead>\n",
       "    <tr style=\"text-align: right;\">\n",
       "      <th></th>\n",
       "      <th>year</th>\n",
       "      <th>polarization</th>\n",
       "    </tr>\n",
       "  </thead>\n",
       "  <tbody>\n",
       "    <tr>\n",
       "      <th>0</th>\n",
       "      <td>1790.154061</td>\n",
       "      <td>0.552307</td>\n",
       "    </tr>\n",
       "    <tr>\n",
       "      <th>1</th>\n",
       "      <td>1790.120750</td>\n",
       "      <td>0.545883</td>\n",
       "    </tr>\n",
       "    <tr>\n",
       "      <th>2</th>\n",
       "      <td>1790.116895</td>\n",
       "      <td>0.540504</td>\n",
       "    </tr>\n",
       "    <tr>\n",
       "      <th>3</th>\n",
       "      <td>1790.113039</td>\n",
       "      <td>0.535125</td>\n",
       "    </tr>\n",
       "    <tr>\n",
       "      <th>4</th>\n",
       "      <td>1790.391398</td>\n",
       "      <td>0.528719</td>\n",
       "    </tr>\n",
       "  </tbody>\n",
       "</table>\n",
       "</div>"
      ],
      "text/plain": [
       "          year  polarization\n",
       "0  1790.154061      0.552307\n",
       "1  1790.120750      0.545883\n",
       "2  1790.116895      0.540504\n",
       "3  1790.113039      0.535125\n",
       "4  1790.391398      0.528719"
      ]
     },
     "metadata": {},
     "output_type": "display_data"
    },
    {
     "data": {
      "application/vnd.microsoft.datawrangler.viewer.v0+json": {
       "columns": [
        {
         "name": "index",
         "rawType": "int64",
         "type": "integer"
        },
        {
         "name": "year",
         "rawType": "float64",
         "type": "float"
        },
        {
         "name": "ratio",
         "rawType": "float64",
         "type": "float"
        }
       ],
       "conversionMethod": "pd.DataFrame",
       "ref": "83d42ab3-20e6-453c-b691-331dfcb6357d",
       "rows": [
        [
         "0",
         "1790.671138403401",
         "1.1575648377320884"
        ],
        [
         "1",
         "1790.5332073689185",
         "1.1460549864810776"
        ],
        [
         "2",
         "1790.446953235711",
         "1.1346495454211287"
        ],
        [
         "3",
         "1790.3665249566998",
         "1.1229823927267382"
        ],
        [
         "4",
         "1790.2227680680207",
         "1.1110033817727352"
        ]
       ],
       "shape": {
        "columns": 2,
        "rows": 5
       }
      },
      "text/html": [
       "<div>\n",
       "<style scoped>\n",
       "    .dataframe tbody tr th:only-of-type {\n",
       "        vertical-align: middle;\n",
       "    }\n",
       "\n",
       "    .dataframe tbody tr th {\n",
       "        vertical-align: top;\n",
       "    }\n",
       "\n",
       "    .dataframe thead th {\n",
       "        text-align: right;\n",
       "    }\n",
       "</style>\n",
       "<table border=\"1\" class=\"dataframe\">\n",
       "  <thead>\n",
       "    <tr style=\"text-align: right;\">\n",
       "      <th></th>\n",
       "      <th>year</th>\n",
       "      <th>ratio</th>\n",
       "    </tr>\n",
       "  </thead>\n",
       "  <tbody>\n",
       "    <tr>\n",
       "      <th>0</th>\n",
       "      <td>1790.671138</td>\n",
       "      <td>1.157565</td>\n",
       "    </tr>\n",
       "    <tr>\n",
       "      <th>1</th>\n",
       "      <td>1790.533207</td>\n",
       "      <td>1.146055</td>\n",
       "    </tr>\n",
       "    <tr>\n",
       "      <th>2</th>\n",
       "      <td>1790.446953</td>\n",
       "      <td>1.134650</td>\n",
       "    </tr>\n",
       "    <tr>\n",
       "      <th>3</th>\n",
       "      <td>1790.366525</td>\n",
       "      <td>1.122982</td>\n",
       "    </tr>\n",
       "    <tr>\n",
       "      <th>4</th>\n",
       "      <td>1790.222768</td>\n",
       "      <td>1.111003</td>\n",
       "    </tr>\n",
       "  </tbody>\n",
       "</table>\n",
       "</div>"
      ],
      "text/plain": [
       "          year     ratio\n",
       "0  1790.671138  1.157565\n",
       "1  1790.533207  1.146055\n",
       "2  1790.446953  1.134650\n",
       "3  1790.366525  1.122982\n",
       "4  1790.222768  1.111003"
      ]
     },
     "metadata": {},
     "output_type": "display_data"
    },
    {
     "data": {
      "application/vnd.microsoft.datawrangler.viewer.v0+json": {
       "columns": [
        {
         "name": "index",
         "rawType": "int64",
         "type": "integer"
        },
        {
         "name": "code",
         "rawType": "object",
         "type": "unknown"
        },
        {
         "name": "year",
         "rawType": "float64",
         "type": "float"
        },
        {
         "name": "type",
         "rawType": "object",
         "type": "string"
        },
        {
         "name": "subtype",
         "rawType": "object",
         "type": "string"
        },
        {
         "name": "fatalities",
         "rawType": "object",
         "type": "string"
        },
        {
         "name": "location",
         "rawType": "object",
         "type": "string"
        },
        {
         "name": "source",
         "rawType": "object",
         "type": "string"
        },
        {
         "name": "description",
         "rawType": "object",
         "type": "string"
        }
       ],
       "conversionMethod": "pd.DataFrame",
       "ref": "8e549beb-cb5f-4a32-b66c-4540eb1b27da",
       "rows": [
        [
         "0",
         null,
         "1782.05",
         "lynching",
         "political",
         "1",
         "South Carolina",
         "Gilje",
         "May: After Judge Aedewus (??) Burke's Court failed to convict a tory and accused horse thief a crowd of men led by General William Butler seized the tory and hanged him."
        ],
        [
         "1",
         null,
         "1784.03",
         "lynching",
         "political",
         "1",
         "Montgomery, Ulster Co. NYC",
         "Gilje",
         "March: A Tory was shot when he attempted to settle in Whig territory. A Whig mob came to him. He ran and was shot.\t"
        ],
        [
         "2",
         null,
         "1784.07",
         "riot",
         "economic",
         "2",
         "Ft. Dickinson, Wyoming Valley, PA",
         "Gilje",
         "Pennamite-Yankee War. July: John Franklin and Yankees besiege Pennamites under Alexander Patterson. In various battles, two Yankees killed and Franklin wounded. Cease fire arranged on 31st.\t"
        ],
        [
         "3",
         null,
         "1784.07",
         "riot",
         "economic",
         "2",
         "Wyoming Valley, PA",
         "Gilje",
         "Pennamite-Yankee War.  July: Yankees and Pennamites skirmish. Two Yankees killed (\"lost\") in the ambush by William Patterson's men (Pennamite with a quasi-legal commission)\t"
        ],
        [
         "4",
         null,
         "1784.09",
         "riot",
         "economic",
         "2",
         "Ft. Dickinson, Wyoming Valley, PA",
         "Gilje",
         "Pennamite-Yankee War.  September: In August a supposedly neutral militia force convinced both Pennamites and Yankees to lay down arms, but then arrested the Yankees. By September, most of the Yankees were free and determined to use violence. Yankees again attack Ft. Dickinson. After two hour battle, two Yankees wounded, two Pennamites killed, two Pennamites wounded.\t"
        ]
       ],
       "shape": {
        "columns": 8,
        "rows": 5
       }
      },
      "text/html": [
       "<div>\n",
       "<style scoped>\n",
       "    .dataframe tbody tr th:only-of-type {\n",
       "        vertical-align: middle;\n",
       "    }\n",
       "\n",
       "    .dataframe tbody tr th {\n",
       "        vertical-align: top;\n",
       "    }\n",
       "\n",
       "    .dataframe thead th {\n",
       "        text-align: right;\n",
       "    }\n",
       "</style>\n",
       "<table border=\"1\" class=\"dataframe\">\n",
       "  <thead>\n",
       "    <tr style=\"text-align: right;\">\n",
       "      <th></th>\n",
       "      <th>code</th>\n",
       "      <th>year</th>\n",
       "      <th>type</th>\n",
       "      <th>subtype</th>\n",
       "      <th>fatalities</th>\n",
       "      <th>location</th>\n",
       "      <th>source</th>\n",
       "      <th>description</th>\n",
       "    </tr>\n",
       "  </thead>\n",
       "  <tbody>\n",
       "    <tr>\n",
       "      <th>0</th>\n",
       "      <td>NaN</td>\n",
       "      <td>1782.05</td>\n",
       "      <td>lynching</td>\n",
       "      <td>political</td>\n",
       "      <td>1</td>\n",
       "      <td>South Carolina</td>\n",
       "      <td>Gilje</td>\n",
       "      <td>May: After Judge Aedewus (??) Burke's Court fa...</td>\n",
       "    </tr>\n",
       "    <tr>\n",
       "      <th>1</th>\n",
       "      <td>NaN</td>\n",
       "      <td>1784.03</td>\n",
       "      <td>lynching</td>\n",
       "      <td>political</td>\n",
       "      <td>1</td>\n",
       "      <td>Montgomery, Ulster Co. NYC</td>\n",
       "      <td>Gilje</td>\n",
       "      <td>March: A Tory was shot when he attempted to se...</td>\n",
       "    </tr>\n",
       "    <tr>\n",
       "      <th>2</th>\n",
       "      <td>NaN</td>\n",
       "      <td>1784.07</td>\n",
       "      <td>riot</td>\n",
       "      <td>economic</td>\n",
       "      <td>2</td>\n",
       "      <td>Ft. Dickinson, Wyoming Valley, PA</td>\n",
       "      <td>Gilje</td>\n",
       "      <td>Pennamite-Yankee War. July: John Franklin and ...</td>\n",
       "    </tr>\n",
       "    <tr>\n",
       "      <th>3</th>\n",
       "      <td>NaN</td>\n",
       "      <td>1784.07</td>\n",
       "      <td>riot</td>\n",
       "      <td>economic</td>\n",
       "      <td>2</td>\n",
       "      <td>Wyoming Valley, PA</td>\n",
       "      <td>Gilje</td>\n",
       "      <td>Pennamite-Yankee War.  July: Yankees and Penna...</td>\n",
       "    </tr>\n",
       "    <tr>\n",
       "      <th>4</th>\n",
       "      <td>NaN</td>\n",
       "      <td>1784.09</td>\n",
       "      <td>riot</td>\n",
       "      <td>economic</td>\n",
       "      <td>2</td>\n",
       "      <td>Ft. Dickinson, Wyoming Valley, PA</td>\n",
       "      <td>Gilje</td>\n",
       "      <td>Pennamite-Yankee War.  September: In August a ...</td>\n",
       "    </tr>\n",
       "  </tbody>\n",
       "</table>\n",
       "</div>"
      ],
      "text/plain": [
       "  code     year      type    subtype fatalities  \\\n",
       "0  NaN  1782.05  lynching  political          1   \n",
       "1  NaN  1784.03  lynching  political          1   \n",
       "2  NaN  1784.07      riot   economic          2   \n",
       "3  NaN  1784.07      riot   economic          2   \n",
       "4  NaN  1784.09      riot   economic          2   \n",
       "\n",
       "                            location source  \\\n",
       "0                     South Carolina  Gilje   \n",
       "1         Montgomery, Ulster Co. NYC  Gilje   \n",
       "2  Ft. Dickinson, Wyoming Valley, PA  Gilje   \n",
       "3                 Wyoming Valley, PA  Gilje   \n",
       "4  Ft. Dickinson, Wyoming Valley, PA  Gilje   \n",
       "\n",
       "                                         description  \n",
       "0  May: After Judge Aedewus (??) Burke's Court fa...  \n",
       "1  March: A Tory was shot when he attempted to se...  \n",
       "2  Pennamite-Yankee War. July: John Franklin and ...  \n",
       "3  Pennamite-Yankee War.  July: Yankees and Penna...  \n",
       "4  Pennamite-Yankee War.  September: In August a ...  "
      ]
     },
     "metadata": {},
     "output_type": "display_data"
    }
   ],
   "source": [
    "# Dariel\n",
    "# - PltPolarizaiton.csv\n",
    "# - PltWageGDPRatio.csv\n",
    "# - USPVdatabase.xlsx\n",
    "\n",
    "pltpolar = pd.read_csv(\"files/PltPolarization.csv\", header=None, names=[\"year\", \"polarization\"])\n",
    "pltwage = pd.read_csv(\"files/PltWageGDPRatio.csv\", header=None, names=[\"year\", \"ratio\"])\n",
    "uspv = pd.read_csv(\"files/USPVdatabase.csv\")"
   ]
  },
  {
   "cell_type": "code",
   "execution_count": 36,
   "id": "0b065eb9",
   "metadata": {},
   "outputs": [
    {
     "data": {
      "application/vnd.microsoft.datawrangler.viewer.v0+json": {
       "columns": [
        {
         "name": "index",
         "rawType": "int64",
         "type": "integer"
        },
        {
         "name": "time",
         "rawType": "object",
         "type": "string"
        },
        {
         "name": "polarization",
         "rawType": "float64",
         "type": "float"
        },
        {
         "name": "ratio",
         "rawType": "float64",
         "type": "float"
        },
        {
         "name": "assassination",
         "rawType": "float64",
         "type": "float"
        },
        {
         "name": "executions",
         "rawType": "float64",
         "type": "float"
        },
        {
         "name": "insurrection",
         "rawType": "float64",
         "type": "float"
        },
        {
         "name": "lynching",
         "rawType": "float64",
         "type": "float"
        },
        {
         "name": "mass suicide",
         "rawType": "float64",
         "type": "float"
        },
        {
         "name": "rampage",
         "rawType": "float64",
         "type": "float"
        },
        {
         "name": "riot",
         "rawType": "float64",
         "type": "float"
        },
        {
         "name": "terrorism",
         "rawType": "float64",
         "type": "float"
        },
        {
         "name": "war",
         "rawType": "float64",
         "type": "float"
        }
       ],
       "conversionMethod": "pd.DataFrame",
       "ref": "da1aaf96-ea2f-4cda-832b-b48a0e02b423",
       "rows": [
        [
         "0",
         "1901",
         "0.845472235957844",
         "0.6512746536541936",
         "1.0",
         "0.0",
         "0.0",
         "3.0",
         "0.0",
         "0.0",
         "5.0",
         "0.0",
         "0.0"
        ],
        [
         "1",
         "1902",
         "0.8602173305811254",
         "0.6451801748678742",
         "0.0",
         "0.0",
         "0.0",
         "3.0",
         "0.0",
         "0.0",
         "2.0",
         "0.0",
         "0.0"
        ],
        [
         "2",
         "1903",
         "0.8689115970490606",
         "0.6390856960815547",
         "0.0",
         "0.0",
         "0.0",
         "5.0",
         "0.0",
         "0.0",
         "9.0",
         "0.0",
         "0.0"
        ],
        [
         "3",
         "1904",
         "0.8777935712010644",
         "0.6277108894035066",
         "0.0",
         "0.0",
         "0.0",
         "4.0",
         "0.0",
         "0.0",
         "5.0",
         "0.0",
         "0.0"
        ],
        [
         "4",
         "1905",
         "0.8901107834114359",
         "0.6060846178351755",
         "1.0",
         "0.0",
         "0.0",
         "0.0",
         "0.0",
         "0.0",
         "2.0",
         "0.0",
         "0.0"
        ],
        [
         "5",
         "1906",
         "0.8984138360043009",
         "0.5966877006395963",
         "0.0",
         "0.0",
         "0.0",
         "3.0",
         "0.0",
         "0.0",
         "10.0",
         "0.0",
         "0.0"
        ],
        [
         "6",
         "1907",
         "0.8916463447310645",
         "0.6070634633763816",
         "0.0",
         "0.0",
         "0.0",
         "0.0",
         "0.0",
         "0.0",
         "6.0",
         "0.0",
         "0.0"
        ],
        [
         "7",
         "1908",
         "0.8822561808098601",
         "0.6109396917195582",
         "0.0",
         "0.0",
         "0.0",
         "9.0",
         "0.0",
         "0.0",
         "5.0",
         "0.0",
         "0.0"
        ],
        [
         "8",
         "1909",
         "0.8736681334802452",
         "0.6087470777072563",
         "0.0",
         "0.0",
         "0.0",
         "7.0",
         "0.0",
         "0.0",
         "1.0",
         "0.0",
         "0.0"
        ],
        [
         "9",
         "1910",
         "0.8609636627594934",
         "0.6029958163495915",
         "0.0",
         "0.0",
         "0.0",
         "5.0",
         "0.0",
         "0.0",
         "19.0",
         "1.0",
         "0.0"
        ]
       ],
       "shape": {
        "columns": 12,
        "rows": 10
       }
      },
      "text/html": [
       "<div>\n",
       "<style scoped>\n",
       "    .dataframe tbody tr th:only-of-type {\n",
       "        vertical-align: middle;\n",
       "    }\n",
       "\n",
       "    .dataframe tbody tr th {\n",
       "        vertical-align: top;\n",
       "    }\n",
       "\n",
       "    .dataframe thead th {\n",
       "        text-align: right;\n",
       "    }\n",
       "</style>\n",
       "<table border=\"1\" class=\"dataframe\">\n",
       "  <thead>\n",
       "    <tr style=\"text-align: right;\">\n",
       "      <th></th>\n",
       "      <th>time</th>\n",
       "      <th>polarization</th>\n",
       "      <th>ratio</th>\n",
       "      <th>assassination</th>\n",
       "      <th>executions</th>\n",
       "      <th>insurrection</th>\n",
       "      <th>lynching</th>\n",
       "      <th>mass suicide</th>\n",
       "      <th>rampage</th>\n",
       "      <th>riot</th>\n",
       "      <th>terrorism</th>\n",
       "      <th>war</th>\n",
       "    </tr>\n",
       "  </thead>\n",
       "  <tbody>\n",
       "    <tr>\n",
       "      <th>0</th>\n",
       "      <td>1901</td>\n",
       "      <td>0.845472</td>\n",
       "      <td>0.651275</td>\n",
       "      <td>1.0</td>\n",
       "      <td>0.0</td>\n",
       "      <td>0.0</td>\n",
       "      <td>3.0</td>\n",
       "      <td>0.0</td>\n",
       "      <td>0.0</td>\n",
       "      <td>5.0</td>\n",
       "      <td>0.0</td>\n",
       "      <td>0.0</td>\n",
       "    </tr>\n",
       "    <tr>\n",
       "      <th>1</th>\n",
       "      <td>1902</td>\n",
       "      <td>0.860217</td>\n",
       "      <td>0.645180</td>\n",
       "      <td>0.0</td>\n",
       "      <td>0.0</td>\n",
       "      <td>0.0</td>\n",
       "      <td>3.0</td>\n",
       "      <td>0.0</td>\n",
       "      <td>0.0</td>\n",
       "      <td>2.0</td>\n",
       "      <td>0.0</td>\n",
       "      <td>0.0</td>\n",
       "    </tr>\n",
       "    <tr>\n",
       "      <th>2</th>\n",
       "      <td>1903</td>\n",
       "      <td>0.868912</td>\n",
       "      <td>0.639086</td>\n",
       "      <td>0.0</td>\n",
       "      <td>0.0</td>\n",
       "      <td>0.0</td>\n",
       "      <td>5.0</td>\n",
       "      <td>0.0</td>\n",
       "      <td>0.0</td>\n",
       "      <td>9.0</td>\n",
       "      <td>0.0</td>\n",
       "      <td>0.0</td>\n",
       "    </tr>\n",
       "    <tr>\n",
       "      <th>3</th>\n",
       "      <td>1904</td>\n",
       "      <td>0.877794</td>\n",
       "      <td>0.627711</td>\n",
       "      <td>0.0</td>\n",
       "      <td>0.0</td>\n",
       "      <td>0.0</td>\n",
       "      <td>4.0</td>\n",
       "      <td>0.0</td>\n",
       "      <td>0.0</td>\n",
       "      <td>5.0</td>\n",
       "      <td>0.0</td>\n",
       "      <td>0.0</td>\n",
       "    </tr>\n",
       "    <tr>\n",
       "      <th>4</th>\n",
       "      <td>1905</td>\n",
       "      <td>0.890111</td>\n",
       "      <td>0.606085</td>\n",
       "      <td>1.0</td>\n",
       "      <td>0.0</td>\n",
       "      <td>0.0</td>\n",
       "      <td>0.0</td>\n",
       "      <td>0.0</td>\n",
       "      <td>0.0</td>\n",
       "      <td>2.0</td>\n",
       "      <td>0.0</td>\n",
       "      <td>0.0</td>\n",
       "    </tr>\n",
       "    <tr>\n",
       "      <th>5</th>\n",
       "      <td>1906</td>\n",
       "      <td>0.898414</td>\n",
       "      <td>0.596688</td>\n",
       "      <td>0.0</td>\n",
       "      <td>0.0</td>\n",
       "      <td>0.0</td>\n",
       "      <td>3.0</td>\n",
       "      <td>0.0</td>\n",
       "      <td>0.0</td>\n",
       "      <td>10.0</td>\n",
       "      <td>0.0</td>\n",
       "      <td>0.0</td>\n",
       "    </tr>\n",
       "    <tr>\n",
       "      <th>6</th>\n",
       "      <td>1907</td>\n",
       "      <td>0.891646</td>\n",
       "      <td>0.607063</td>\n",
       "      <td>0.0</td>\n",
       "      <td>0.0</td>\n",
       "      <td>0.0</td>\n",
       "      <td>0.0</td>\n",
       "      <td>0.0</td>\n",
       "      <td>0.0</td>\n",
       "      <td>6.0</td>\n",
       "      <td>0.0</td>\n",
       "      <td>0.0</td>\n",
       "    </tr>\n",
       "    <tr>\n",
       "      <th>7</th>\n",
       "      <td>1908</td>\n",
       "      <td>0.882256</td>\n",
       "      <td>0.610940</td>\n",
       "      <td>0.0</td>\n",
       "      <td>0.0</td>\n",
       "      <td>0.0</td>\n",
       "      <td>9.0</td>\n",
       "      <td>0.0</td>\n",
       "      <td>0.0</td>\n",
       "      <td>5.0</td>\n",
       "      <td>0.0</td>\n",
       "      <td>0.0</td>\n",
       "    </tr>\n",
       "    <tr>\n",
       "      <th>8</th>\n",
       "      <td>1909</td>\n",
       "      <td>0.873668</td>\n",
       "      <td>0.608747</td>\n",
       "      <td>0.0</td>\n",
       "      <td>0.0</td>\n",
       "      <td>0.0</td>\n",
       "      <td>7.0</td>\n",
       "      <td>0.0</td>\n",
       "      <td>0.0</td>\n",
       "      <td>1.0</td>\n",
       "      <td>0.0</td>\n",
       "      <td>0.0</td>\n",
       "    </tr>\n",
       "    <tr>\n",
       "      <th>9</th>\n",
       "      <td>1910</td>\n",
       "      <td>0.860964</td>\n",
       "      <td>0.602996</td>\n",
       "      <td>0.0</td>\n",
       "      <td>0.0</td>\n",
       "      <td>0.0</td>\n",
       "      <td>5.0</td>\n",
       "      <td>0.0</td>\n",
       "      <td>0.0</td>\n",
       "      <td>19.0</td>\n",
       "      <td>1.0</td>\n",
       "      <td>0.0</td>\n",
       "    </tr>\n",
       "  </tbody>\n",
       "</table>\n",
       "</div>"
      ],
      "text/plain": [
       "   time  polarization     ratio  assassination  executions  insurrection  \\\n",
       "0  1901      0.845472  0.651275            1.0         0.0           0.0   \n",
       "1  1902      0.860217  0.645180            0.0         0.0           0.0   \n",
       "2  1903      0.868912  0.639086            0.0         0.0           0.0   \n",
       "3  1904      0.877794  0.627711            0.0         0.0           0.0   \n",
       "4  1905      0.890111  0.606085            1.0         0.0           0.0   \n",
       "5  1906      0.898414  0.596688            0.0         0.0           0.0   \n",
       "6  1907      0.891646  0.607063            0.0         0.0           0.0   \n",
       "7  1908      0.882256  0.610940            0.0         0.0           0.0   \n",
       "8  1909      0.873668  0.608747            0.0         0.0           0.0   \n",
       "9  1910      0.860964  0.602996            0.0         0.0           0.0   \n",
       "\n",
       "   lynching  mass suicide  rampage  riot  terrorism  war  \n",
       "0       3.0           0.0      0.0   5.0        0.0  0.0  \n",
       "1       3.0           0.0      0.0   2.0        0.0  0.0  \n",
       "2       5.0           0.0      0.0   9.0        0.0  0.0  \n",
       "3       4.0           0.0      0.0   5.0        0.0  0.0  \n",
       "4       0.0           0.0      0.0   2.0        0.0  0.0  \n",
       "5       3.0           0.0      0.0  10.0        0.0  0.0  \n",
       "6       0.0           0.0      0.0   6.0        0.0  0.0  \n",
       "7       9.0           0.0      0.0   5.0        0.0  0.0  \n",
       "8       7.0           0.0      0.0   1.0        0.0  0.0  \n",
       "9       5.0           0.0      0.0  19.0        1.0  0.0  "
      ]
     },
     "execution_count": 36,
     "metadata": {},
     "output_type": "execute_result"
    }
   ],
   "source": [
    "# Dariel\n",
    "\n",
    "#####################################\n",
    "# Political Polarizaiton (pltpolar) #\n",
    "#####################################\n",
    "\n",
    "# Interpolating pltpolar by taking the mean so we have exactly one data point per year\n",
    "# Structure: year, distance between the average scores of the Democrats/Republicans for each Congress\n",
    "pltpolar[\"time\"] = np.floor(pltpolar[\"year\"])\n",
    "pltpolar = pltpolar.groupby(\"time\")[\"polarization\"].mean().reset_index()\n",
    "pltpolar[\"time\"] = pltpolar[\"time\"].apply(lambda x : int(x))\n",
    "\n",
    "######################################\n",
    "# Political Wage/GDP Ratio (pltwage) #\n",
    "######################################\n",
    "\n",
    "# Interpolating pltwage by taking the mean so we have exactly one data point per year\n",
    "# Structure: year, ratio of blue collar wages/gdp per year\n",
    "pltwage[\"time\"] = np.floor(pltwage[\"year\"])\n",
    "pltwage = pltwage.groupby(\"time\")[\"ratio\"].mean().reset_index()\n",
    "pltwage[\"time\"] = pltwage[\"time\"].apply(lambda x : int(x))\n",
    "\n",
    "######################################\n",
    "# Political Violence Database (uspv) #\n",
    "######################################\n",
    "uspv = uspv.drop(columns=[\"code\",\"source\",\"description\", \"location\"])\n",
    "uspv[\"time\"] = np.floor(uspv[\"year\"])\n",
    "uspv = uspv.dropna()\n",
    "uspv[\"time\"] = uspv[\"time\"].apply(lambda x : int(x))\n",
    "\n",
    "pivot_type = pd.crosstab(uspv['time'], uspv['type'])\n",
    "uspv = pivot_type\n",
    "\n",
    "######################################\n",
    "# JOINING DARIEL'S DATASETS TOGETHER #\n",
    "######################################\n",
    "\n",
    "# We can merge with Yordi's datasets later on the time column\n",
    "dariel_joined = pd.merge(pltpolar, pltwage, on=\"time\", how=\"outer\")\n",
    "dariel_joined = pd.merge(dariel_joined, uspv, on=\"time\", how=\"outer\")\n",
    "dariel_joined[[\"assassination\", \"executions\", \"insurrection\", \"lynching\",\n",
    "               \"mass suicide\", \"rampage\", \"riot\", \"terrorism\", \"war\"]] = \\\n",
    "dariel_joined[[\"assassination\", \"executions\", \"insurrection\", \"lynching\",\n",
    "               \"mass suicide\", \"rampage\", \"riot\", \"terrorism\", \"war\"]].fillna(0)\n",
    "\n",
    "years_wanted = [1901, 1902, 1903, 1904, 1905, 1906, 1907, 1908, 1909, 1910]\n",
    "dariel_joined = dariel_joined[dariel_joined[\"time\"].isin(years_wanted)]\n",
    "dariel_joined[\"time\"] = dariel_joined[\"time\"].apply(lambda x : str(x))\n",
    "dariel_joined[\"ratio\"] = dariel_joined[\"ratio\"].interpolate(method='linear')\n",
    "dariel_joined = dariel_joined.reset_index().drop(columns=\"index\")\n",
    "dariel_joined"
   ]
  },
  {
   "cell_type": "markdown",
   "id": "de60395d",
   "metadata": {},
   "source": [
    "## Exploratory Data Analysis\n",
    "* [ ] Conduct an exploratory data analysis\n",
    "* [ ] Summarize your main findings (most interesting/insightful conclusions) in a short para-\n",
    "graph and include appropriate visualizations."
   ]
  },
  {
   "cell_type": "code",
   "execution_count": null,
   "id": "f0866e00",
   "metadata": {},
   "outputs": [],
   "source": []
  },
  {
   "cell_type": "markdown",
   "id": "7d461c52",
   "metadata": {},
   "source": [
    "## Find the best regressor\n",
    "Find the best regressor that would predict the instability index from the various predictors. To be clear, you are asked to compare a limited set of regressors of your choice – not to identify the theoretically optimal one.\n",
    "\n",
    "* [ ] Explain your modeling choices.\n",
    "* [ ] Interpret any evaluation metrics you use.\n",
    "* [ ] Summarize your conclusions in a short paragraph, i.e., the most interesting conclusion(s), the model that produced it, and how the model was chosen. You may include a figure if you find it helpful."
   ]
  },
  {
   "cell_type": "code",
   "execution_count": null,
   "id": "92d4315b",
   "metadata": {},
   "outputs": [],
   "source": []
  },
  {
   "cell_type": "markdown",
   "id": "baf08d0f",
   "metadata": {},
   "source": [
    "## Find the best dimensionality reduction for regression\n",
    "You can restrict this part to reducing the data to two dimensions, to three dimensions, or explore both options. You can test your variables using the best regressor found in the previous section or a small number of regressors (2-3 models at most).\n",
    "\n",
    "* [ ] Explain modeling choices and evaluation metrics.\n",
    "* [ ] Summarize your conclusions in a short paragraph, i.e., the most interesting conclusion(s), the model that produced it, and how the model was chosen. You may include a figure if you find it helpful"
   ]
  },
  {
   "cell_type": "code",
   "execution_count": null,
   "id": "1e16ff13",
   "metadata": {},
   "outputs": [],
   "source": []
  },
  {
   "cell_type": "markdown",
   "id": "19ae7dde",
   "metadata": {},
   "source": [
    "## Find the best dimensionality reduction for unsupervised classification\n",
    "\n",
    "Use only the predictor columns and not the outcome (instability) for classification. You can restrict this part to reducing the data to two dimensions, to three dimensions, or explore both options.\n",
    "\n",
    "* [ ] You can test your variables using k-means or a small number of classifiers (2-3 models at most).\n",
    "* [ ] Explain modeling choices and evaluation metrics.\n",
    "* [ ] Summarize your conclusions in a short paragraph, i.e., the most interesting conclusion(s), the model that produced it, and how the model was chosen. You may include a figure if you find it helpful."
   ]
  },
  {
   "cell_type": "code",
   "execution_count": null,
   "id": "dab7ade5",
   "metadata": {},
   "outputs": [],
   "source": []
  },
  {
   "cell_type": "markdown",
   "id": "73836bee",
   "metadata": {},
   "source": [
    "## Briefly explore the clusters of instability scores"
   ]
  },
  {
   "cell_type": "markdown",
   "id": "de15aee9",
   "metadata": {},
   "source": [
    "Consider the cluster labels from the best clustering scheme from previous section or from clustering using all/most of the original features. Apply it to the corresponding records of the outcome column (instability).\n",
    "\n",
    "* [ ] Create a visualization of the results.\n",
    "* [ ] Summarize your conclusions. To be clear, the summary can be very short, and may be that the clusters do not exhibit any discernable or interpretable pattern. You may include a figure if you find it helpful."
   ]
  },
  {
   "cell_type": "code",
   "execution_count": null,
   "id": "915a5d72",
   "metadata": {},
   "outputs": [],
   "source": []
  },
  {
   "cell_type": "markdown",
   "id": "29f77edc",
   "metadata": {},
   "source": [
    "## Consider a real life modeling/prediction problem\n",
    "\n",
    "* [ ] Try a large number (100? 1000?) different models\n",
    "* [ ] Examine their performances\n",
    "* [ ] Select the one that scores best on your performance metric of choice\n",
    "* [ ] Briefly discuss the potential disadvantage (or potential danger) of such and approach and how you might go about mitigating it."
   ]
  },
  {
   "cell_type": "code",
   "execution_count": null,
   "id": "07d6b51b",
   "metadata": {},
   "outputs": [],
   "source": []
  }
 ],
 "metadata": {
  "kernelspec": {
   "display_name": "Python 3",
   "language": "python",
   "name": "python3"
  },
  "language_info": {
   "codemirror_mode": {
    "name": "ipython",
    "version": 3
   },
   "file_extension": ".py",
   "mimetype": "text/x-python",
   "name": "python",
   "nbconvert_exporter": "python",
   "pygments_lexer": "ipython3",
   "version": "3.11.4"
  }
 },
 "nbformat": 4,
 "nbformat_minor": 5
}
